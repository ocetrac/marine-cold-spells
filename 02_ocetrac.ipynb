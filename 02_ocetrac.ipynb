{
 "cells": [
  {
   "cell_type": "markdown",
   "metadata": {},
   "source": [
    "# 02_ocetrac.ipynb\n",
    "### Use Ocetrac to identify and track MCS objects "
   ]
  },
  {
   "cell_type": "code",
   "execution_count": null,
   "metadata": {},
   "outputs": [],
   "source": [
    "import xarray as xr\n",
    "import numpy as np\n",
    "import matplotlib.pyplot as plt\n",
    "from ocetrac import model as oce"
   ]
  },
  {
   "cell_type": "markdown",
   "metadata": {},
   "source": [
    "#### Import data files"
   ]
  },
  {
   "cell_type": "code",
   "execution_count": null,
   "metadata": {},
   "outputs": [],
   "source": [
    "file_path_list = ('/burg/abernathey/users/hillary/oisst_v21/negative_extremes_OISSTv21.nc',\n",
    "                  '/burg/abernathey/users/hillary/oisst_v21/preprocessed_OISSTv21.nc')\n",
    "\n",
    "ds = xr.open_mfdataset(file_path_list)\n",
    "ds"
   ]
  },
  {
   "cell_type": "markdown",
   "metadata": {},
   "source": [
    "#### [Optional] Adjust land mask to ignore points poleward of 65ºN and 70ºS"
   ]
  },
  {
   "cell_type": "code",
   "execution_count": null,
   "metadata": {},
   "outputs": [],
   "source": [
    "mask = ds.lsmask.where((ds.lat<65) & (ds.lat>-70), drop=False, other=0) \n",
    "mask.plot()"
   ]
  },
  {
   "cell_type": "markdown",
   "metadata": {},
   "source": [
    "### Run Ocetrac"
   ]
  },
  {
   "cell_type": "code",
   "execution_count": null,
   "metadata": {},
   "outputs": [],
   "source": [
    "# Set model parameters\n",
    "da = ds.mcs_ssta_notrend.load() # load the DataArray into memory\n",
    "radius = 8 # radius for structuring element\n",
    "min_size_quartile = 0.75 # threshold for object areas\n",
    "timedim = 'time'\n",
    "xdim = 'lon'\n",
    "ydim = 'lat'"
   ]
  },
  {
   "cell_type": "code",
   "execution_count": null,
   "metadata": {},
   "outputs": [],
   "source": [
    "Tracker =  oce.Tracker(da, mask, radius, min_size_quartile, timedim, xdim, ydim)"
   ]
  },
  {
   "cell_type": "code",
   "execution_count": null,
   "metadata": {},
   "outputs": [],
   "source": [
    "%%time \n",
    "blobs = Tracker.track()"
   ]
  },
  {
   "cell_type": "markdown",
   "metadata": {},
   "source": [
    "**The basic output of `Tracker.track` provides:**\n",
    "- the minimum object area used to filter out MCS that are smaller than this threshold. Area is computed for all objects at each time step. `Ocetrac` looks at the global distribution of object area and finds the size that corresponds to a certain percentile defined by `area_quantile`, which can range from 0.0 to 1.0. Larger values for `area_quantile` exclude more MCS objects and will increase the minimum object area threshold. \n",
    "- inital features identified have undergone size thresholding, however are not connected in time. \n",
    "- final features tracked are the number of unique MCS objects tracked in space and time. "
   ]
  },
  {
   "cell_type": "markdown",
   "metadata": {},
   "source": [
    "#### Let's make a quick plot"
   ]
  },
  {
   "cell_type": "code",
   "execution_count": null,
   "metadata": {},
   "outputs": [],
   "source": [
    "from matplotlib.colors import ListedColormap\n",
    "maxl = int(np.nanmax(blobs.values))\n",
    "cm = ListedColormap(np.random.random(size=(maxl, 3)).tolist())\n",
    "\n",
    "# MCS identified with Ocetrac\n",
    "blobs.sel(time=('2012-08-01')).plot(cmap= cm)"
   ]
  },
  {
   "cell_type": "markdown",
   "metadata": {},
   "source": [
    "### Save tracked labels"
   ]
  },
  {
   "cell_type": "code",
   "execution_count": null,
   "metadata": {},
   "outputs": [],
   "source": [
    "# Specify path to save output \n",
    "path = '/burg/abernathey/users/hillary/oisst_v21/'\n",
    "\n",
    "ds_out = blobs.to_dataset(name='ocetrac_labels')\n",
    "ds_out.attrs['data'] = 'OISST v2.1 no trend'\n",
    "\n",
    "# Save Dataset to netCDF\n",
    "ds_out.to_netcdf(path+'ocetrac_MCS_notrend.nc', mode='w')"
   ]
  }
 ],
 "metadata": {
  "kernelspec": {
   "display_name": "marine-heatwaves",
   "language": "python",
   "name": "marine-heatwaves"
  },
  "language_info": {
   "codemirror_mode": {
    "name": "ipython",
    "version": 3
   },
   "file_extension": ".py",
   "mimetype": "text/x-python",
   "name": "python",
   "nbconvert_exporter": "python",
   "pygments_lexer": "ipython3",
   "version": "3.9.6"
  }
 },
 "nbformat": 4,
 "nbformat_minor": 4
}
